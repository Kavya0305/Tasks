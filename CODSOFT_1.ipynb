{
  "cells": [
    {
      "cell_type": "markdown",
      "metadata": {
        "id": "view-in-github",
        "colab_type": "text"
      },
      "source": [
        "<a href=\"https://colab.research.google.com/github/Kavya0305/Tasks/blob/main/CODSOFT_1.ipynb\" target=\"_parent\"><img src=\"https://colab.research.google.com/assets/colab-badge.svg\" alt=\"Open In Colab\"/></a>"
      ]
    },
    {
      "cell_type": "markdown",
      "metadata": {
        "id": "vfrsV3aT381D"
      },
      "source": [
        "**GNANA KAVYA SRI KAKUMANU**\n",
        "\n",
        "**ChatBot with rule based responses**\n"
      ]
    },
    {
      "cell_type": "code",
      "execution_count": null,
      "metadata": {
        "colab": {
          "background_save": true,
          "base_uri": "https://localhost:8080/"
        },
        "id": "hzY_c8-i-DVa",
        "outputId": "bdbe8a72-2a51-446a-eb9a-99daf7eb1191"
      },
      "outputs": [
        {
          "name": "stdout",
          "output_type": "stream",
          "text": [
            "Chatbot: Hello! How can I help you today?\n",
            "Chatbot: My name is AssistantBot. I am here to assist you.\n",
            "Chatbot: I'm doing great, thank you!\n",
            "Chatbot: I don't understand your query. Please try again.\n",
            "Chatbot: Good morning! How can I assist you today?\n",
            "Chatbot: I don't eat, but I hear pizza is very popular.\n",
            "Chatbot: There isn't a 'best' programming language, but Python is very versatile and popular.\n",
            "Chatbot: The universe is vast and expanding, filled with countless stars and galaxies.\n",
            "Chatbot: I can help you with information, answer questions, and more.\n",
            "Chatbot: Please provide the product details and your shipping address.\n",
            "Chatbot: Why don't scientists trust atoms? Because they make up everything!\n",
            "Chatbot: The weather is sunny and warm.\n",
            "Chatbot: Goodbye! Have a great day!\n"
          ]
        }
      ],
      "source": [
        "import re\n",
        "\n",
        "# Define a dictionary of rules\n",
        "rules = {\n",
        "   \"(hi|hello|hey)\": \"Hello! How can I help you today?\",\n",
        "    \"(what is your name|who are you)\": \"My name is AssistantBot. I am here to assist you.\",\n",
        "    \"(what is the time)\": \"The current time is 3:30 PM.\",\n",
        "    \"(how are you doing)\": \"I'm doing great, thank you!\",\n",
        "    \"(favorite color)\": \"I don't have a favorite color, but I think blue is quite nice!\",\n",
        "    \"(favorite food)\": \"I don't eat, but I hear pizza is very popular.\",\n",
        "    \"(best programming language)\": \"There isn't a 'best' programming language, but Python is very versatile and popular.\",\n",
        "    \"(goodbye|bye)\": \"Goodbye! Have a great day!\",\n",
        "    \"(morning)\": \"Good morning! How can I assist you today?\",\n",
        "    \"(afternoon)\": \"Good afternoon! How can I assist you today?\",\n",
        "    \"(evening)\": \"Good evening! How can I assist you today?\",\n",
        "    \"(what's the weather like|how is the weather today)\": \"The weather is sunny and warm.\",\n",
        "    \"(where do you live)\": \"I exist in the cloud, accessible from anywhere with internet.\",\n",
        "    \"(what can you do)\": \"I can help you with various tasks like answering questions, generating text, and more.\",\n",
        "    \"(tell me about the universe)\": \"The universe is vast and expanding, filled with countless stars and galaxies.\",\n",
        "    \"(what's your hobby)\": \"I enjoy processing data and learning new things!\",\n",
        "    \"(features of assistant bot)\": \"I can help you with information, answer questions, and more.\",\n",
        "    \"(how to use assistant bot)\": \"Just type your question or request, and I'll do my best to assist.\",\n",
        "    \"(schedule a meeting)\": \"Sure, when would you like to schedule the meeting?\",\n",
        "    \"(order a product)\": \"Please provide the product details and your shipping address.\",\n",
        "    \"(account help)\": \"Please describe the issue you're having with your account.\",\n",
        "    \"(tell me a joke)\": \"Why don't scientists trust atoms? Because they make up everything!\",\n",
        "\n",
        "}\n",
        "\n",
        "# Define a function to match user queries to rules\n",
        "def match_rule(query):\n",
        "    for pattern, response in rules.items():\n",
        "        if re.match(pattern, query):\n",
        "            return response\n",
        "    return None\n",
        "\n",
        "# Define a function to generate a response to a user query\n",
        "def generate_response(query):\n",
        "    response = match_rule(query)\n",
        "    if response is None:\n",
        "        response = \"I don't understand your query. Please try again.\"\n",
        "    return response\n",
        "\n",
        "# Start the chatbot loop\n",
        "while True:\n",
        "    user_query = input(\"User: \")\n",
        "    response = generate_response(user_query)\n",
        "    print(f\"Chatbot: {response}\")"
      ]
    }
  ],
  "metadata": {
    "colab": {
      "provenance": [],
      "authorship_tag": "ABX9TyMnpVvYPSPyyJ1rdgcfBpDI",
      "include_colab_link": true
    },
    "kernelspec": {
      "display_name": "Python 3",
      "name": "python3"
    },
    "language_info": {
      "name": "python"
    }
  },
  "nbformat": 4,
  "nbformat_minor": 0
}