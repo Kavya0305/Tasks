{
  "nbformat": 4,
  "nbformat_minor": 0,
  "metadata": {
    "colab": {
      "provenance": [],
      "authorship_tag": "ABX9TyPksPPMV6Gat/QZvUALkflu",
      "include_colab_link": true
    },
    "kernelspec": {
      "name": "python3",
      "display_name": "Python 3"
    },
    "language_info": {
      "name": "python"
    }
  },
  "cells": [
    {
      "cell_type": "markdown",
      "metadata": {
        "id": "view-in-github",
        "colab_type": "text"
      },
      "source": [
        "<a href=\"https://colab.research.google.com/github/Kavya0305/Tasks/blob/main/CODSOFT_3.ipynb\" target=\"_parent\"><img src=\"https://colab.research.google.com/assets/colab-badge.svg\" alt=\"Open In Colab\"/></a>"
      ]
    },
    {
      "cell_type": "code",
      "source": [
        "import pandas as pd\n",
        "import numpy as np\n",
        "from sklearn.metrics.pairwise import cosine_similarity\n",
        "\n",
        "# Sample dataset\n",
        "data = {\n",
        "    'user_id': [1, 1, 1, 2, 2, 2, 3, 3, 3, 4, 4],\n",
        "    'movie_id': [101, 102, 103, 101, 104, 105, 102, 103, 104, 101, 103],\n",
        "    'movie_title': [\n",
        "        'The Shawshank Redemption', 'The Godfather', 'The Dark Knight',\n",
        "        'The Shawshank Redemption', 'Pulp Fiction', 'The Lord of the Rings: The Return of the King',\n",
        "        'The Godfather', 'The Dark Knight', 'Pulp Fiction', 'The Shawshank Redemption', 'The Dark Knight'\n",
        "    ],\n",
        "    'rating': [5, 3, 4, 4, 2, 5, 4, 5, 1, 5, 3]\n",
        "}\n",
        "\n",
        "ratings = pd.DataFrame(data)\n",
        "\n",
        "# Create a user-item matrix\n",
        "user_item_matrix = ratings.pivot_table(index='user_id', columns='movie_id', values='rating')\n",
        "\n",
        "# Fill NaN values with 0 (assume unrated items as 0 for simplicity)\n",
        "user_item_matrix_filled = user_item_matrix.fillna(0)\n",
        "\n",
        "# Calculate cosine similarity between items\n",
        "item_similarity = cosine_similarity(user_item_matrix_filled.T)\n",
        "item_similarity_df = pd.DataFrame(item_similarity, index=user_item_matrix.columns, columns=user_item_matrix.columns)\n",
        "\n",
        "def get_recommendations(user_id, user_item_matrix, item_similarity_df, ratings, num_recommendations=5):\n",
        "    user_ratings = user_item_matrix.loc[user_id].dropna()\n",
        "    similar_items = item_similarity_df[user_ratings.index]\n",
        "    scores = similar_items.dot(user_ratings).div(similar_items.sum(axis=1))\n",
        "    scores = scores.drop(user_ratings.index)  # Exclude already rated items\n",
        "    recommendations = scores.nlargest(num_recommendations)\n",
        "    recommendations = recommendations.index.to_series().map(ratings.drop_duplicates('movie_id').set_index('movie_id')['movie_title'])\n",
        "    return recommendations\n",
        "\n",
        "\n"
      ],
      "metadata": {
        "id": "EV1vll0ZER6F"
      },
      "execution_count": null,
      "outputs": []
    },
    {
      "cell_type": "code",
      "source": [
        "# Example: Get recommendations for a specific user\n",
        "specific_user_id = 1  # Change this to the desired user ID\n",
        "recommendations = get_recommendations(specific_user_id, user_item_matrix, item_similarity_df, ratings)\n",
        "\n",
        "print(f\"Recommendations for User {specific_user_id}:\")\n",
        "for movie_id, movie_title in recommendations.items():\n",
        "    print(f\"User ID: {specific_user_id}, Movie ID: {movie_id}, Movie Title: {movie_title}\")"
      ],
      "metadata": {
        "colab": {
          "base_uri": "https://localhost:8080/"
        },
        "id": "Pm24lKzwGMCf",
        "outputId": "9b682889-072c-4bcd-cbd2-8a3340580688"
      },
      "execution_count": null,
      "outputs": [
        {
          "output_type": "stream",
          "name": "stdout",
          "text": [
            "Recommendations for User 1:\n",
            "User ID: 1, Movie ID: 105, Movie Title: The Lord of the Rings: The Return of the King\n",
            "User ID: 1, Movie ID: 104, Movie Title: Pulp Fiction\n"
          ]
        }
      ]
    },
    {
      "cell_type": "code",
      "source": [
        "# Example: Get recommendations for a specific user\n",
        "specific_user_id = 2  # Change this to the desired user ID\n",
        "recommendations = get_recommendations(specific_user_id, user_item_matrix, item_similarity_df, ratings)\n",
        "\n",
        "print(f\"Recommendations for User {specific_user_id}:\")\n",
        "for movie_id, movie_title in recommendations.items():\n",
        "    print(f\"User ID: {specific_user_id}, Movie ID: {movie_id}, Movie Title: {movie_title}\")"
      ],
      "metadata": {
        "colab": {
          "base_uri": "https://localhost:8080/"
        },
        "id": "ST6mBbqsGNNg",
        "outputId": "9854ca51-2251-40de-cd9b-5ae3f591e49d"
      },
      "execution_count": null,
      "outputs": [
        {
          "output_type": "stream",
          "name": "stdout",
          "text": [
            "Recommendations for User 2:\n",
            "User ID: 2, Movie ID: 103, Movie Title: The Dark Knight\n",
            "User ID: 2, Movie ID: 102, Movie Title: The Godfather\n"
          ]
        }
      ]
    },
    {
      "cell_type": "code",
      "source": [
        "# Example: Get recommendations for a specific user\n",
        "specific_user_id = 3  # Change this to the desired user ID\n",
        "recommendations = get_recommendations(specific_user_id, user_item_matrix, item_similarity_df, ratings)\n",
        "\n",
        "print(f\"Recommendations for User {specific_user_id}:\")\n",
        "for movie_id, movie_title in recommendations.items():\n",
        "    print(f\"User ID: {specific_user_id}, Movie ID: {movie_id}, Movie Title: {movie_title}\")"
      ],
      "metadata": {
        "colab": {
          "base_uri": "https://localhost:8080/"
        },
        "id": "8WXbeJ85GPB6",
        "outputId": "c202b090-c063-46a4-c831-38dc0001041f"
      },
      "execution_count": null,
      "outputs": [
        {
          "output_type": "stream",
          "name": "stdout",
          "text": [
            "Recommendations for User 3:\n",
            "User ID: 3, Movie ID: 101, Movie Title: The Shawshank Redemption\n",
            "User ID: 3, Movie ID: 105, Movie Title: The Lord of the Rings: The Return of the King\n"
          ]
        }
      ]
    }
  ]
}