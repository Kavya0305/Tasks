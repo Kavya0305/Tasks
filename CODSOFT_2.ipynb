TASK-2

{
  "nbformat": 4,
  "nbformat_minor": 0,
  "metadata": {
    "colab": {
      "provenance": [],
      "authorship_tag": "ABX9TyNt1qoHGRvp0/+aQEnq1ZIV",
      "include_colab_link": true
    },
    "kernelspec": {
      "name": "python3",
      "display_name": "Python 3"
    },
    "language_info": {
      "name": "python"
    }
  },
  "cells": [
    {
      "cell_type": "markdown",
      "metadata": {
        "id": "view-in-github",
        "colab_type": "text"
      },
      "source": [
        "<a href=\"https://colab.research.google.com/github/Kavya0305/Tasks/blob/main/CODSOFT_2.ipynb\" target=\"_parent\"><img src=\"https://colab.research.google.com/assets/colab-badge.svg\" alt=\"Open In Colab\"/></a>"
      ]
    },
    {
      "cell_type": "code",
      "execution_count": null,
      "metadata": {
        "id": "-oF1pxVUobwn"
      },
      "outputs": [],
      "source": [
        "# Import required libraries\n",
        "import random"
      ]
    },
    {
      "cell_type": "code",
      "source": [
        "# Function to print the Tic-Tac-Toe board\n",
        "def print_board(board):\n",
        "    for row in board:\n",
        "        print(\" | \".join(row))\n",
        "        print(\"-\" * 9)"
      ],
      "metadata": {
        "id": "4SKHZOeaoiUP"
      },
      "execution_count": null,
      "outputs": []
    },
    {
      "cell_type": "code",
      "source": [
        "# Function to check if a player has won\n",
        "def check_winner(board, player):\n",
        "    for row in board:\n",
        "        if all(cell == player for cell in row):\n",
        "            return True\n",
        "\n",
        "    for col in range(3):\n",
        "        if all(board[row][col] == player for row in range(3)):\n",
        "            return True\n",
        "\n",
        "    if all(board[i][i] == player for i in range(3)) or all(board[i][2 - i] == player for i in range(3)):\n",
        "        return True\n",
        "\n",
        "    return False"
      ],
      "metadata": {
        "id": "lRz-wqxColdW"
      },
      "execution_count": null,
      "outputs": []
    },
    {
      "cell_type": "code",
      "source": [
        "# Function to check if the board is full\n",
        "def is_full(board):\n",
        "    return all(cell != \" \" for row in board for cell in row)"
      ],
      "metadata": {
        "id": "MMPZAkRdoohz"
      },
      "execution_count": null,
      "outputs": []
    },
    {
      "cell_type": "code",
      "source": [
        "# Function to get available moves on the board\n",
        "def available_moves(board):\n",
        "    return [(i, j) for i in range(3) for j in range(3) if board[i][j] == \" \"]"
      ],
      "metadata": {
        "id": "SQP8SDdDosFI"
      },
      "execution_count": null,
      "outputs": []
    },
    {
      "cell_type": "code",
      "source": [
        "# Function for the Minimax algorithm\n",
        "def minimax(board, depth, is_maximizing):\n",
        "    if check_winner(board, \"O\"):\n",
        "        return 1\n",
        "    if check_winner(board, \"X\"):\n",
        "        return -1\n",
        "    if is_full(board):\n",
        "        return 0\n",
        "\n",
        "    if is_maximizing:\n",
        "        max_eval = float(\"-inf\")\n",
        "        for move in available_moves(board):\n",
        "            board[move[0]][move[1]] = \"O\"\n",
        "            eval = minimax(board, depth + 1, False)\n",
        "            board[move[0]][move[1]] = \" \"\n",
        "            max_eval = max(max_eval, eval)\n",
        "        return max_eval\n",
        "    else:\n",
        "        min_eval = float(\"inf\")\n",
        "        for move in available_moves(board):\n",
        "            board[move[0]][move[1]] = \"X\"\n",
        "            eval = minimax(board, depth + 1, True)\n",
        "            board[move[0]][move[1]] = \" \"\n",
        "            min_eval = min(min_eval, eval)\n",
        "        return min_eval"
      ],
      "metadata": {
        "id": "qw2cpo4eowG1"
      },
      "execution_count": null,
      "outputs": []
    },
    {
      "cell_type": "code",
      "source": [
        "# Function to find the best move for the AI\n",
        "def best_move(board):\n",
        "    best_val = float(\"-inf\")\n",
        "    best_move = None\n",
        "    for move in available_moves(board):\n",
        "        board[move[0]][move[1]] = \"O\"\n",
        "        move_val = minimax(board, 0, False)\n",
        "        board[move[0]][move[1]] = \" \"\n",
        "        if move_val > best_val:\n",
        "            best_val = move_val\n",
        "            best_move = move\n",
        "    return best_move"
      ],
      "metadata": {
        "id": "vgCIvzfSo0pw"
      },
      "execution_count": null,
      "outputs": []
    },
    {
      "cell_type": "code",
      "source": [
        "# Main game loop\n",
        "def main():\n",
        "    board = [[\" \" for _ in range(3)] for _ in range(3)]\n",
        "    print(\"Welcome to Tic-Tac-Toe! You are 'X', and the AI is 'O'.\")\n",
        "    print(\"Valid Entries: 0 0, 0 1, 0 2, 1 0, 1 1, 1 2, 2 0, 2 1 2 2\")\n",
        "    print_board(board)\n",
        "\n",
        "    while True:\n",
        "        row, col = map(int, input(\"Enter your move (row and column, e.g., '1 2'): \").split())\n",
        "        if (row, col) not in available_moves(board):\n",
        "            print(\"Invalid move. Try again.\")\n",
        "            continue\n",
        "        board[row][col] = \"X\"\n",
        "        print_board(board)\n",
        "\n",
        "        if check_winner(board, \"X\"):\n",
        "            print(\"You win! Congratulations!\")\n",
        "            break\n",
        "\n",
        "        if is_full(board):\n",
        "            print(\"It's a tie!\")\n",
        "            break\n",
        "\n",
        "        ai_move = best_move(board)\n",
        "        board[ai_move[0]][ai_move[1]] = \"O\"\n",
        "        print(\"AI's move:\")\n",
        "        print_board(board)\n",
        "\n",
        "        if check_winner(board, \"O\"):\n",
        "            print(\"AI wins! Better luck next time.\")\n",
        "            break\n",
        "\n",
        "        if is_full(board):\n",
        "            print(\"It's a tie!\")\n",
        "            break\n",
        "\n",
        "# Start the game\n",
        "if __name__ == \"__main__\":\n",
        "    main()"
      ],
      "metadata": {
        "colab": {
          "base_uri": "https://localhost:8080/"
        },
        "id": "uEUMl0HYqzf6",
        "outputId": "39a1fb47-a83e-4a51-b5bf-e8b7be4b2b9b"
      },
      "execution_count": null,
      "outputs": [
        {
          "output_type": "stream",
          "name": "stdout",
          "text": [
            "Welcome to Tic-Tac-Toe! You are 'X', and the AI is 'O'.\n",
            "Valid Entries: 0 0, 0 1, 0 2, 1 0, 1 1, 1 2, 2 0, 2 1 2 2\n",
            "  |   |  \n",
            "---------\n",
            "  |   |  \n",
            "---------\n",
            "  |   |  \n",
            "---------\n",
            "Enter your move (row and column, e.g., '1 2'): 0 0\n",
            "X |   |  \n",
            "---------\n",
            "  |   |  \n",
            "---------\n",
            "  |   |  \n",
            "---------\n",
            "AI's move:\n",
            "X |   |  \n",
            "---------\n",
            "  | O |  \n",
            "---------\n",
            "  |   |  \n",
            "---------\n",
            "Enter your move (row and column, e.g., '1 2'): 2 0\n",
            "X |   |  \n",
            "---------\n",
            "  | O |  \n",
            "---------\n",
            "X |   |  \n",
            "---------\n",
            "AI's move:\n",
            "X |   |  \n",
            "---------\n",
            "O | O |  \n",
            "---------\n",
            "X |   |  \n",
            "---------\n",
            "Enter your move (row and column, e.g., '1 2'): 1 2\n",
            "X |   |  \n",
            "---------\n",
            "O | O | X\n",
            "---------\n",
            "X |   |  \n",
            "---------\n",
            "AI's move:\n",
            "X | O |  \n",
            "---------\n",
            "O | O | X\n",
            "---------\n",
            "X |   |  \n",
            "---------\n",
            "Enter your move (row and column, e.g., '1 2'): 2 1\n",
            "X | O |  \n",
            "---------\n",
            "O | O | X\n",
            "---------\n",
            "X | X |  \n",
            "---------\n",
            "AI's move:\n",
            "X | O |  \n",
            "---------\n",
            "O | O | X\n",
            "---------\n",
            "X | X | O\n",
            "---------\n",
            "Enter your move (row and column, e.g., '1 2'): 0 2\n",
            "X | O | X\n",
            "---------\n",
            "O | O | X\n",
            "---------\n",
            "X | X | O\n",
            "---------\n",
            "It's a tie!\n"
          ]
        }
      ]
    }
  ]
}
